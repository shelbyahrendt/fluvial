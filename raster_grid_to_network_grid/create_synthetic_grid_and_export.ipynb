{
 "cells": [
  {
   "cell_type": "code",
   "execution_count": 1,
   "metadata": {},
   "outputs": [],
   "source": [
    "from landlab.grid.network import NetworkModelGrid\n",
    "from landlab import RasterModelGrid\n",
    "from landlab.plot.imshow import imshow_grid\n",
    "from landlab.plot import graph\n",
    "import numpy as np\n",
    "import matplotlib.pyplot as plt"
   ]
  },
  {
   "cell_type": "code",
   "execution_count": 2,
   "metadata": {},
   "outputs": [],
   "source": [
    "dx = 1\n",
    "dy = 1\n",
    "n_cell_x = 7\n",
    "n_cell_y = 7\n",
    "rmg = RasterModelGrid((n_cell_x, n_cell_y), xy_spacing=(dx,dy))"
   ]
  },
  {
   "cell_type": "code",
   "execution_count": 3,
   "metadata": {},
   "outputs": [
    {
     "data": {
      "image/png": "[encoded data removed]",
      "text/plain": [
       "<Figure size 432x288 with 1 Axes>"
      ]
     },
     "metadata": {
      "needs_background": "light"
     },
     "output_type": "display_data"
    }
   ],
   "source": [
    "graph.plot_graph(rmg, at='node')"
   ]
  },
  {
   "cell_type": "code",
   "execution_count": 4,
   "metadata": {},
   "outputs": [],
   "source": [
    "n_row = rmg.shape[0]\n",
    "n_col = rmg.shape[1]\n",
    "n_cells = n_row*n_col\n",
    "z = np.zeros(n_cells)"
   ]
  },
  {
   "cell_type": "markdown",
   "metadata": {},
   "source": [
    "1) tilt entire landscape"
   ]
  },
  {
   "cell_type": "code",
   "execution_count": 5,
   "metadata": {},
   "outputs": [],
   "source": [
    "top_elev = 10\n",
    "bott_elev = 0\n",
    "dz = (top_elev - bott_elev)/(n_row - 1)\n",
    "\n",
    "for i in range(n_row):\n",
    "    z[i*n_col:(i+1)*n_col] = bott_elev + i*dz"
   ]
  },
  {
   "cell_type": "code",
   "execution_count": 7,
   "metadata": {},
   "outputs": [
    {
     "data": {
      "text/plain": [
       "array([  0.        ,   0.        ,   0.        ,   0.        ,\n",
       "         0.        ,   0.        ,   0.        ,   1.66666667,\n",
       "         1.66666667,   1.66666667,   1.66666667,   1.66666667,\n",
       "         1.66666667,   1.66666667,   3.33333333,   3.33333333,\n",
       "         3.33333333,   3.33333333,   3.33333333,   3.33333333,\n",
       "         3.33333333,   5.        ,   5.        ,   5.        ,\n",
       "         5.        ,   5.        ,   5.        ,   5.        ,\n",
       "         6.66666667,   6.66666667,   6.66666667,   6.66666667,\n",
       "         6.66666667,   6.66666667,   6.66666667,   8.33333333,\n",
       "         8.33333333,   8.33333333,   8.33333333,   8.33333333,\n",
       "         8.33333333,   8.33333333,  10.        ,  10.        ,\n",
       "        10.        ,  10.        ,  10.        ,  10.        ,  10.        ])"
      ]
     },
     "execution_count": 7,
     "metadata": {},
     "output_type": "execute_result"
    }
   ],
   "source": [
    "rmg.add_field('topographic__elevation', z, at='node')"
   ]
  },
  {
   "cell_type": "code",
   "execution_count": 8,
   "metadata": {},
   "outputs": [
    {
     "data": {
      "image/png": "[encoded data removed]",
      "text/plain": [
       "<Figure size 432x288 with 2 Axes>"
      ]
     },
     "metadata": {
      "needs_background": "light"
     },
     "output_type": "display_data"
    }
   ],
   "source": [
    "imshow_grid(rmg, 'topographic__elevation')"
   ]
  },
  {
   "cell_type": "code",
   "execution_count": null,
   "metadata": {},
   "outputs": [],
   "source": []
  }
 ],
 "metadata": {
  "kernelspec": {
   "display_name": "Python 3",
   "language": "python",
   "name": "python3"
  },
  "language_info": {
   "codemirror_mode": {
    "name": "ipython",
    "version": 3
   },
   "file_extension": ".py",
   "mimetype": "text/x-python",
   "name": "python",
   "nbconvert_exporter": "python",
   "pygments_lexer": "ipython3",
   "version": "3.8.2"
  }
 },
 "nbformat": 4,
 "nbformat_minor": 4
}
